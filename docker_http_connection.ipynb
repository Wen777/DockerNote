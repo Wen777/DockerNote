{
 "metadata": {
  "name": "",
  "signature": "sha256:b2ff50c110eaddadc4e86336143242c021dcbd102cfd9f675712fff8d6d6d9ae"
 },
 "nbformat": 3,
 "nbformat_minor": 0,
 "worksheets": [
  {
   "cells": [
    {
     "cell_type": "markdown",
     "metadata": {},
     "source": [
      "# Use HTTP connection to control docker (\u4f7f\u7528HTTP\u9023\u7dda)\n",
      "\n",
      "- ###Use case (command line mode)\n",
      "- ###for docekrode (controled by node.js)\n",
      "\n",
      "#####Reference\n",
      "#####https://docs.docker.com/articles/https/\n",
      "\n",
      "#####Question:\n",
      "**\u5982\u4f55\u4f7f\u7528dockerode\u505a\u5230?**"
     ]
    },
    {
     "cell_type": "markdown",
     "metadata": {},
     "source": [
      "## Tools\n",
      "\n",
      "- ###cUrl\n",
      "****(for test)****\n",
      "\n",
      "#####Reference:\n",
      "- #####cURL command line tutorial \n",
      "#####http://blog.masterstudio101.com/2013/05/12/cURL%20%E6%8C%87%E4%BB%A4%E6%95%99%E5%AD%B8%20%28cURL%20command%20how-to%29"
     ]
    },
    {
     "cell_type": "markdown",
     "metadata": {},
     "source": [
      "##Daemon socket option\n",
      "\n",
      "###Purpose:\n",
      "\n",
      "####Access the Docker daemon remotely by `tcp` Socket.\n",
      "```\n",
      "The docker daemon can listen for Docker Remote API requestvia three different types of Socket: unix, tcp, and fd.\n",
      "```"
     ]
    },
    {
     "cell_type": "markdown",
     "metadata": {},
     "source": [
      "##Runing Docker with https\n",
      "\n",
      "####Reference:\n",
      "#####https://docs.docker.com/articles/https/"
     ]
    },
    {
     "cell_type": "markdown",
     "metadata": {},
     "source": [
      "###1st: install OPENSSL (if need)"
     ]
    },
    {
     "cell_type": "markdown",
     "metadata": {},
     "source": [
      "###2nd: create ca-key.pem (CA, certificate authority)\n",
      "```\n",
      "$ echo 01 > ca.srl\n",
      "\n",
      "$ openssl genrsa -des3 -out ca-key.pem 2048\n",
      "Generating RSA private key, 2048 bit long modulus\n",
      "......+++\n",
      "...............+++\n",
      "e is 65537 (0x10001)\n",
      "Enter pass phrase for ca-key.pem:\n",
      "Verifying - Enter pass phrase for ca-key.pem:\n",
      "```\n",
      "\n",
      "*****\n",
      "\n",
      "```\n",
      "$ openssl req -new -x509 -days 365 -key ca-key.pem -out ca.pem\n",
      "Enter pass phrase for ca-key.pem:\n",
      " You are about to be asked to enter information that will be incorporated\n",
      " into your certificate request.\n",
      " What you are about to enter is what is called a Distinguished Name or a DN.\n",
      " There are quite a few fields but you can leave some blank\n",
      " For some fields there will be a default value,\n",
      " If you enter '.', the field will be left blank.\n",
      " -----\n",
      " Country Name (2 letter code) [AU]:TW\n",
      " State or Province Name (full name) [Some-State]:Taiwan\n",
      " Locality Name (eg, city) []:Taichung\n",
      " Organization Name (eg, company) [Internet Widgits Pty Ltd]:wuderks\n",
      " Organizational Unit Name (eg, section) []:agilearning\n",
      " Common Name (e.g. server FQDN or YOUR name) []:localhost */this is for test/*\n",
      " Email Address []:Sven@home.org.a\n",
      "```"
     ]
    },
    {
     "cell_type": "markdown",
     "metadata": {},
     "source": [
      "###3rd: create server key\n",
      "```\n",
      "$ openssl genrsa -des3 -out server-key.pem 2048\n",
      "Generating RSA private key, 2048 bit long modulus\n",
      "......................................................+++\n",
      "............................................+++\n",
      "e is 65537 (0x10001)\n",
      "Enter pass phrase for server-key.pem:\n",
      "Verifying - Enter pass phrase for server-key.pem:\n",
      "```\n",
      "\n",
      "*****\n",
      "\n",
      "```\n",
      "$ openssl req -subj '/CN=<Your Hostname Here>' -new -key server-key.pem -out server.csr\n",
      "Enter pass phrase for server-key.pem:\n",
      "```"
     ]
    },
    {
     "cell_type": "markdown",
     "metadata": {},
     "source": [
      "###4th: use own CA to sign the (server) key\n",
      "```\n",
      "$ openssl x509 -req -days 365 -in server.csr -CA ca.pem -CAkey ca-key.pem -out server-cert.pem\n",
      "Signature ok\n",
      "subject=/CN=your.host.com\n",
      "Getting CA Private Key\n",
      "Enter pass phrase for ca-key.pem:\n",
      "```"
     ]
    },
    {
     "cell_type": "markdown",
     "metadata": {},
     "source": [
      "###5th: create client key and signing it\n",
      "```\n",
      "$ openssl genrsa -des3 -out key.pem 2048\n",
      "Generating RSA private key, 2048 bit long modulus\n",
      "...............................................+++\n",
      "...............................................................+++\n",
      "e is 65537 (0x10001)\n",
      "Enter pass phrase for key.pem:\n",
      "Verifying - Enter pass phrase for key.pem:\n",
      "```\n",
      "\n",
      "*****\n",
      "\n",
      "```\n",
      "$ openssl req -subj '/CN=client' -new -key key.pem -out client.csr\n",
      "Enter pass phrase for key.pem:\n",
      "```"
     ]
    },
    {
     "cell_type": "markdown",
     "metadata": {},
     "source": [
      "###6nd: create an extensions config file\n",
      "```\n",
      "$ echo extendedKeyUsage = clientAuth > extfile.cnf\n",
      "```"
     ]
    },
    {
     "cell_type": "markdown",
     "metadata": {},
     "source": [
      "###7nd: sign the (client) key\n",
      "```\n",
      "$ openssl x509 -req -days 365 -in client.csr -CA ca.pem -CAkey ca-key.pem \\\n",
      "  -out cert.pem -extfile extfile.cnf\n",
      "Signature ok\n",
      "subject=/CN=client\n",
      "Getting CA Private Key\n",
      "Enter pass phrase for ca-key.pem:\n",
      "```"
     ]
    },
    {
     "cell_type": "markdown",
     "metadata": {},
     "source": [
      "###8nd: need to remove the passphrase from the client and server key\n",
      "```\n",
      "$ openssl rsa -in server-key.pem -out server-key.pem\n",
      "Enter pass phrase for server-key.pem:\n",
      "writing RSA key\n",
      "```\n",
      "***\n",
      "\n",
      "```\n",
      "$ openssl rsa -in key.pem -out key.pem\n",
      "Enter pass phrase for key.pem:\n",
      "writing RSA key\n",
      "```"
     ]
    },
    {
     "cell_type": "markdown",
     "metadata": {},
     "source": [
      "##Now you can make the Docker daemon only accept connections from clients providing a certificate trusted by our CA (\u555f\u52d5server\u7aef\u7684docker, \u4e4b\u5f8cclient\u9700\u8981\u7528CA\u624d\u80fd\u64cd\u4f5c):\n",
      "```\n",
      "$ docker -d --tlsverify --tlscacert=ca.pem --tlscert=server-cert.pem --tlskey=server-key.pem -H=0.0.0.0:2376\n",
      "```\n",
      "#####this command is for server side, run docker container\n",
      "\n",
      "***\n",
      "\n",
      "\u555f\u52d5\u5f8c\uff0cclient\u7aef\u5982\u679c\u767b\u5165\uff0c\u9810\u8a2d\u7528root\u64cd\u4f5cdocker\uff0c\u8acb\u4fdd\u8b77\u597d\u4f60\u7684CA\n",
      "\n",
      "***Warning: As shown in the example above, you don't have to run the docker client with sudo or the docker group when you use certificate authentication. That means anyone with the keys can give any instructions to your Docker daemon, giving them root access to the machine hosting the daemon. Guard these keys as you would a root password!***\n",
      "\n",
      "***\n",
      "\u5982\u679c\u8981\u5728local\u7aef\u6e2c\u8a66\u9019\u4efd\u6559\u5b78\uff0c\u53ef\u4ee5\u6253\u958b\u5169\u500bterminal, \u4e00\u500bterminal\u7576\u4f5csever side, \u57f7\u884c\u4e0a\u9762\u7684\u90a3\u884c\u6307\u4ee4\u3002\n",
      "\u53e6\u4e00\u500bterminal\u57f7\u884c\u4e0b\u9762\u7684\u6307\u4ee4\u3002"
     ]
    },
    {
     "cell_type": "markdown",
     "metadata": {},
     "source": [
      "##To be able to connect to Docker and validate its certificate, you now need to provide your client keys, certificates and trusted CA:\n",
      "```\n",
      "$ docker --tlsverify --tlscacert=ca.pem --tlscert=cert.pem --tlskey=key.pem -H=dns-name-of-docker-host:2376 version\n",
      "```\n",
      "#####This command is for client side to provide client key to server\n",
      "\n",
      "#####Note: Docker over TLS should run on TCP port 2376.\n",
      "#####Warning: As shown in the example above, you don't have to run the docker client with sudo or the docker group when you use certificate authentication. That means anyone with the keys can give any instructions to your Docker daemon, giving them root access to the machine hosting the daemon. Guard these keys as you would a root password!"
     ]
    },
    {
     "cell_type": "markdown",
     "metadata": {},
     "source": [
      "##Connecting to the Secure Docker port using curl\n",
      "###To use curl to make test API requests, you need to use three extra command line flags:\n",
      "```\n",
      "$ curl --insecure --cert ~/.docker/cert.pem --key ~/.docker/key.pem https://boot2docker:2376/images/json`\n",
      "```\n",
      "\n",
      "***\u9019\u884c\u6307\u4ee4\u50c5\u4f9b\u6e2c\u8a66\u7528***"
     ]
    },
    {
     "cell_type": "markdown",
     "metadata": {},
     "source": [
      "##Reference:\n",
      "\n",
      "- ####What's TLS ?\n",
      "\n",
      "#####https://zh.wikipedia.org/wiki/%E5%82%B3%E8%BC%B8%E5%B1%A4%E5%AE%89%E5%85%A8%E5%8D%94%E8%AD%B0\n",
      "\n",
      "- ####What's CA(certificate authority) ?\n",
      "\n",
      "#####http://godleon.blogspot.tw/2007/05/ca-certificate-certificate.html\n",
      "\n",
      "- ####How to create my own CA ?\n",
      "\n",
      "#####https://workaround.org/certificate-authority"
     ]
    }
   ],
   "metadata": {}
  }
 ]
}